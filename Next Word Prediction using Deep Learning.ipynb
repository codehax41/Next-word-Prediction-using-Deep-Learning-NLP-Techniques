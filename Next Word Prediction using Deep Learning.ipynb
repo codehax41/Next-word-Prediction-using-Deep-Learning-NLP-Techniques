{
 "cells": [
  {
   "cell_type": "markdown",
   "id": "5a521cd5",
   "metadata": {},
   "source": [
    "### Necessary Imports"
   ]
  },
  {
   "cell_type": "code",
   "execution_count": 1,
   "id": "c8a0bf2f",
   "metadata": {},
   "outputs": [],
   "source": [
    "import numpy as np\n",
    "import pandas as pd\n",
    "import os\n",
    "\n",
    "import matplotlib.pyplot as plt\n",
    "\n",
    "# pickle\n",
    "import pickle\n",
    "\n",
    "# tf and keras\n",
    "import tensorflow as tf\n",
    "from tensorflow import keras\n",
    "from tensorflow.keras.preprocessing.text import Tokenizer\n",
    "from tensorflow.keras.preprocessing.sequence import pad_sequences\n",
    "from tensorflow.keras.layers import Embedding, LSTM, Dense, Bidirectional\n",
    "from tensorflow.keras.models import Sequential, load_model\n",
    "from tensorflow.keras.callbacks import ModelCheckpoint\n",
    "from tensorflow.keras.utils import to_categorical\n",
    "from tensorflow.keras.optimizers import Adam\n",
    "from keras.utils.vis_utils import plot_model"
   ]
  },
  {
   "cell_type": "code",
   "execution_count": 2,
   "id": "24c5d641",
   "metadata": {},
   "outputs": [],
   "source": [
    "#Read data and clean row breaks, notations, symbols\n",
    "file = open(\"1661-0.txt\", \"r\", encoding = \"utf8\")\n",
    "lines = []\n",
    "for i in file:\n",
    "    lines.append(i)\n",
    "data = \"\"\n",
    "for i in lines:\n",
    "    data = ' '. join(lines)\n",
    "data = data.replace('\\n', '').replace('\\r', '').replace('\\ufeff', '').replace('“', '').replace(\"”\", '')\n",
    "data = data.split()\n",
    "data = ' '.join(data)"
   ]
  },
  {
   "cell_type": "code",
   "execution_count": 3,
   "id": "bc7fc1a2",
   "metadata": {},
   "outputs": [
    {
     "data": {
      "text/plain": [
       "\"Project Gutenberg's The Adventures of Sherlock Holmes, by Arthur Conan Doyle This eBook is for the use of anyone anywhere at no cost and with almost no restrictions whatsoever. You may copy it, give it away or re-use it under the terms of the Project Gutenberg License included with this eBook or online at www.gutenberg.net Title: The Adventures of Sherlock Holmes Author: Arthur Conan Doyle Release Date: November 29, 2002 [EBook #1661] Last Updated: May 20, 2019 Language: English Character set en\""
      ]
     },
     "execution_count": 3,
     "metadata": {},
     "output_type": "execute_result"
    }
   ],
   "source": [
    "data[:500]"
   ]
  },
  {
   "cell_type": "code",
   "execution_count": 4,
   "id": "5945ddca",
   "metadata": {},
   "outputs": [
    {
     "data": {
      "text/plain": [
       "[142, 4680, 1, 986, 5, 125, 33, 46, 556, 2164]"
      ]
     },
     "execution_count": 4,
     "metadata": {},
     "output_type": "execute_result"
    }
   ],
   "source": [
    "#Tokenize\n",
    "tokenizer = Tokenizer()\n",
    "tokenizer.fit_on_texts([data])\n",
    "pickle.dump(tokenizer, open('tokenizer1.pkl', 'wb'))\n",
    "sequence_data = tokenizer.texts_to_sequences([data])[0]\n",
    "sequence_data[:10]"
   ]
  },
  {
   "cell_type": "code",
   "execution_count": 5,
   "id": "d9e9bc9c",
   "metadata": {},
   "outputs": [
    {
     "name": "stdout",
     "output_type": "stream",
     "text": [
      "573660\n",
      "108958\n"
     ]
    }
   ],
   "source": [
    "#Shape after tokenizing\n",
    "print(len(data))\n",
    "print(len(sequence_data))"
   ]
  },
  {
   "cell_type": "code",
   "execution_count": 6,
   "id": "d59a99d9",
   "metadata": {},
   "outputs": [
    {
     "data": {
      "text/plain": [
       "8624"
      ]
     },
     "execution_count": 6,
     "metadata": {},
     "output_type": "execute_result"
    }
   ],
   "source": [
    "#The set of unique words used in the text corpus is referred to as the vocabulary\n",
    "vocab_size = len(tokenizer.word_index) + 1\n",
    "vocab_size"
   ]
  },
  {
   "cell_type": "code",
   "execution_count": 7,
   "id": "513f0e18",
   "metadata": {},
   "outputs": [
    {
     "name": "stdout",
     "output_type": "stream",
     "text": [
      "The length of sequences : 108955\n"
     ]
    },
    {
     "data": {
      "text/plain": [
       "array([[ 142, 4680,    1,  986],\n",
       "       [4680,    1,  986,    5],\n",
       "       [   1,  986,    5,  125],\n",
       "       [ 986,    5,  125,   33],\n",
       "       [   5,  125,   33,   46],\n",
       "       [ 125,   33,   46,  556],\n",
       "       [  33,   46,  556, 2164],\n",
       "       [  46,  556, 2164, 2165],\n",
       "       [ 556, 2164, 2165,   27],\n",
       "       [2164, 2165,   27,  987]])"
      ]
     },
     "execution_count": 7,
     "metadata": {},
     "output_type": "execute_result"
    }
   ],
   "source": [
    "#4 word sequence\n",
    "sequences = []\n",
    "for i in range(3, len(sequence_data)):\n",
    "    words = sequence_data[i-3:i+1]\n",
    "    sequences.append(words)\n",
    "    \n",
    "print(\"The length of sequences :\", len(sequences))\n",
    "sequences = np.array(sequences)\n",
    "sequences[:10]"
   ]
  },
  {
   "cell_type": "markdown",
   "id": "7e27e13e",
   "metadata": {},
   "source": [
    "### Training & Testing"
   ]
  },
  {
   "cell_type": "code",
   "execution_count": 8,
   "id": "e9462f41",
   "metadata": {},
   "outputs": [
    {
     "name": "stdout",
     "output_type": "stream",
     "text": [
      "Data :\n",
      " [[ 142 4680    1]\n",
      " [4680    1  986]\n",
      " [   1  986    5]\n",
      " [ 986    5  125]\n",
      " [   5  125   33]\n",
      " [ 125   33   46]\n",
      " [  33   46  556]\n",
      " [  46  556 2164]\n",
      " [ 556 2164 2165]\n",
      " [2164 2165   27]]\n",
      "\n",
      "Response :\n",
      " [ 986    5  125   33   46  556 2164 2165   27  987]\n"
     ]
    }
   ],
   "source": [
    "X = []\n",
    "y = []\n",
    "\n",
    "for i in sequences:\n",
    "    X.append(i[0:3])\n",
    "    y.append(i[3])\n",
    "    \n",
    "X = np.array(X)\n",
    "y = np.array(y)\n",
    "print(\"Data :\\n\", X[:10])\n",
    "print()\n",
    "print(\"Response :\\n\", y[:10])"
   ]
  },
  {
   "cell_type": "code",
   "execution_count": 9,
   "id": "0f5a4420",
   "metadata": {},
   "outputs": [
    {
     "data": {
      "text/plain": [
       "array([[0., 0., 0., ..., 0., 0., 0.],\n",
       "       [0., 0., 0., ..., 0., 0., 0.],\n",
       "       [0., 0., 0., ..., 0., 0., 0.],\n",
       "       ...,\n",
       "       [0., 0., 0., ..., 0., 0., 0.],\n",
       "       [0., 0., 0., ..., 0., 0., 0.],\n",
       "       [0., 0., 0., ..., 0., 0., 0.]], dtype=float32)"
      ]
     },
     "execution_count": 9,
     "metadata": {},
     "output_type": "execute_result"
    }
   ],
   "source": [
    "y = to_categorical(y, num_classes=vocab_size)\n",
    "y[:10]"
   ]
  },
  {
   "cell_type": "code",
   "execution_count": 10,
   "id": "e0725d90",
   "metadata": {},
   "outputs": [],
   "source": [
    "model = Sequential()\n",
    "model.add(Embedding(vocab_size, 10, input_length=3))\n",
    "#Embedding(input_dim,output_dim,\n",
    "model.add(LSTM(1000, return_sequences=True))\n",
    "model.add(LSTM(1000))\n",
    "model.add(Dense(1000, activation=\"relu\"))\n",
    "model.add(Dense(vocab_size, activation=\"softmax\"))"
   ]
  },
  {
   "cell_type": "code",
   "execution_count": 11,
   "id": "50a13914",
   "metadata": {},
   "outputs": [
    {
     "name": "stdout",
     "output_type": "stream",
     "text": [
      "Model: \"sequential\"\n",
      "_________________________________________________________________\n",
      " Layer (type)                Output Shape              Param #   \n",
      "=================================================================\n",
      " embedding (Embedding)       (None, 3, 10)             86240     \n",
      "                                                                 \n",
      " lstm (LSTM)                 (None, 3, 1000)           4044000   \n",
      "                                                                 \n",
      " lstm_1 (LSTM)               (None, 1000)              8004000   \n",
      "                                                                 \n",
      " dense (Dense)               (None, 1000)              1001000   \n",
      "                                                                 \n",
      " dense_1 (Dense)             (None, 8624)              8632624   \n",
      "                                                                 \n",
      "=================================================================\n",
      "Total params: 21,767,864\n",
      "Trainable params: 21,767,864\n",
      "Non-trainable params: 0\n",
      "_________________________________________________________________\n"
     ]
    }
   ],
   "source": [
    "model.summary()"
   ]
  },
  {
   "cell_type": "code",
   "execution_count": 12,
   "id": "8563cd45",
   "metadata": {},
   "outputs": [
    {
     "name": "stdout",
     "output_type": "stream",
     "text": [
      "You must install pydot (`pip install pydot`) and install graphviz (see instructions at https://graphviz.gitlab.io/download/) for plot_model/model_to_dot to work.\n"
     ]
    }
   ],
   "source": [
    "keras.utils.plot_model(model, show_layer_names=True)"
   ]
  },
  {
   "cell_type": "code",
   "execution_count": 13,
   "id": "cd306d14",
   "metadata": {},
   "outputs": [
    {
     "name": "stdout",
     "output_type": "stream",
     "text": [
      "Epoch 1/100\n",
      "681/681 [==============================] - ETA: 0s - loss: 6.5776\n",
      "Epoch 1: loss improved from inf to 6.57758, saving model to nextword.hdf5\n",
      "681/681 [==============================] - 247s 353ms/step - loss: 6.5776 - val_loss: 6.5056\n",
      "Epoch 2/100\n",
      "681/681 [==============================] - ETA: 0s - loss: 5.9535\n",
      "Epoch 2: loss improved from 6.57758 to 5.95348, saving model to nextword.hdf5\n",
      "681/681 [==============================] - 226s 332ms/step - loss: 5.9535 - val_loss: 6.2266\n",
      "Epoch 3/100\n",
      "681/681 [==============================] - ETA: 0s - loss: 5.5422\n",
      "Epoch 3: loss improved from 5.95348 to 5.54217, saving model to nextword.hdf5\n",
      "681/681 [==============================] - 232s 340ms/step - loss: 5.5422 - val_loss: 6.2377\n",
      "Epoch 4/100\n",
      "681/681 [==============================] - ETA: 0s - loss: 5.2687\n",
      "Epoch 4: loss improved from 5.54217 to 5.26869, saving model to nextword.hdf5\n",
      "681/681 [==============================] - 233s 343ms/step - loss: 5.2687 - val_loss: 6.3723\n",
      "Epoch 5/100\n",
      "681/681 [==============================] - ETA: 0s - loss: 5.0400\n",
      "Epoch 5: loss improved from 5.26869 to 5.04000, saving model to nextword.hdf5\n",
      "681/681 [==============================] - 229s 336ms/step - loss: 5.0400 - val_loss: 6.4287\n",
      "Epoch 6/100\n",
      "681/681 [==============================] - ETA: 0s - loss: 4.8257\n",
      "Epoch 6: loss improved from 5.04000 to 4.82569, saving model to nextword.hdf5\n",
      "681/681 [==============================] - 231s 339ms/step - loss: 4.8257 - val_loss: 6.6496\n",
      "Epoch 7/100\n",
      "681/681 [==============================] - ETA: 0s - loss: 4.5960\n",
      "Epoch 7: loss improved from 4.82569 to 4.59602, saving model to nextword.hdf5\n",
      "681/681 [==============================] - 232s 340ms/step - loss: 4.5960 - val_loss: 6.9655\n",
      "Epoch 8/100\n",
      "681/681 [==============================] - ETA: 0s - loss: 4.3444\n",
      "Epoch 8: loss improved from 4.59602 to 4.34440, saving model to nextword.hdf5\n",
      "681/681 [==============================] - 231s 339ms/step - loss: 4.3444 - val_loss: 7.4461\n",
      "Epoch 9/100\n",
      "681/681 [==============================] - ETA: 0s - loss: 4.0617\n",
      "Epoch 9: loss improved from 4.34440 to 4.06170, saving model to nextword.hdf5\n",
      "681/681 [==============================] - 233s 342ms/step - loss: 4.0617 - val_loss: 7.8160\n",
      "Epoch 10/100\n",
      "681/681 [==============================] - ETA: 0s - loss: 3.7613\n",
      "Epoch 10: loss improved from 4.06170 to 3.76131, saving model to nextword.hdf5\n",
      "681/681 [==============================] - 228s 335ms/step - loss: 3.7613 - val_loss: 8.4348\n",
      "Epoch 11/100\n",
      "681/681 [==============================] - ETA: 0s - loss: 3.4650\n",
      "Epoch 11: loss improved from 3.76131 to 3.46498, saving model to nextword.hdf5\n",
      "681/681 [==============================] - 234s 344ms/step - loss: 3.4650 - val_loss: 9.1367\n",
      "Epoch 12/100\n",
      "681/681 [==============================] - ETA: 0s - loss: 3.1811\n",
      "Epoch 12: loss improved from 3.46498 to 3.18110, saving model to nextword.hdf5\n",
      "681/681 [==============================] - 269s 395ms/step - loss: 3.1811 - val_loss: 9.9031\n",
      "Epoch 13/100\n",
      "681/681 [==============================] - ETA: 0s - loss: 2.9156\n",
      "Epoch 13: loss improved from 3.18110 to 2.91558, saving model to nextword.hdf5\n",
      "681/681 [==============================] - 233s 343ms/step - loss: 2.9156 - val_loss: 10.4598\n",
      "Epoch 14/100\n",
      "681/681 [==============================] - ETA: 0s - loss: 2.6687\n",
      "Epoch 14: loss improved from 2.91558 to 2.66869, saving model to nextword.hdf5\n",
      "681/681 [==============================] - 232s 341ms/step - loss: 2.6687 - val_loss: 11.4185\n",
      "Epoch 15/100\n",
      "681/681 [==============================] - ETA: 0s - loss: 2.4332\n",
      "Epoch 15: loss improved from 2.66869 to 2.43316, saving model to nextword.hdf5\n",
      "681/681 [==============================] - 248s 365ms/step - loss: 2.4332 - val_loss: 12.1236\n",
      "Epoch 16/100\n",
      "681/681 [==============================] - ETA: 0s - loss: 2.2035\n",
      "Epoch 16: loss improved from 2.43316 to 2.20355, saving model to nextword.hdf5\n",
      "681/681 [==============================] - 254s 373ms/step - loss: 2.2035 - val_loss: 12.7624\n",
      "Epoch 17/100\n",
      "681/681 [==============================] - ETA: 0s - loss: 1.9890\n",
      "Epoch 17: loss improved from 2.20355 to 1.98903, saving model to nextword.hdf5\n",
      "681/681 [==============================] - 238s 350ms/step - loss: 1.9890 - val_loss: 13.6569\n",
      "Epoch 18/100\n",
      "681/681 [==============================] - ETA: 0s - loss: 1.7725\n",
      "Epoch 18: loss improved from 1.98903 to 1.77246, saving model to nextword.hdf5\n",
      "681/681 [==============================] - 270s 397ms/step - loss: 1.7725 - val_loss: 14.5506\n",
      "Epoch 19/100\n",
      "681/681 [==============================] - ETA: 0s - loss: 1.5699\n",
      "Epoch 19: loss improved from 1.77246 to 1.56993, saving model to nextword.hdf5\n",
      "681/681 [==============================] - 236s 347ms/step - loss: 1.5699 - val_loss: 15.1606\n",
      "Epoch 20/100\n",
      "681/681 [==============================] - ETA: 0s - loss: 1.3834\n",
      "Epoch 20: loss improved from 1.56993 to 1.38341, saving model to nextword.hdf5\n",
      "681/681 [==============================] - 264s 388ms/step - loss: 1.3834 - val_loss: 15.7332\n",
      "Epoch 21/100\n",
      "681/681 [==============================] - ETA: 0s - loss: 1.2128\n",
      "Epoch 21: loss improved from 1.38341 to 1.21285, saving model to nextword.hdf5\n",
      "681/681 [==============================] - 235s 345ms/step - loss: 1.2128 - val_loss: 16.2769\n",
      "Epoch 22/100\n",
      "681/681 [==============================] - ETA: 0s - loss: 1.0736\n",
      "Epoch 22: loss improved from 1.21285 to 1.07363, saving model to nextword.hdf5\n",
      "681/681 [==============================] - 231s 339ms/step - loss: 1.0736 - val_loss: 16.5786\n",
      "Epoch 23/100\n",
      "681/681 [==============================] - ETA: 0s - loss: 0.9490\n",
      "Epoch 23: loss improved from 1.07363 to 0.94902, saving model to nextword.hdf5\n",
      "681/681 [==============================] - 236s 347ms/step - loss: 0.9490 - val_loss: 17.4671\n",
      "Epoch 24/100\n",
      "681/681 [==============================] - ETA: 0s - loss: 0.8551\n",
      "Epoch 24: loss improved from 0.94902 to 0.85509, saving model to nextword.hdf5\n",
      "681/681 [==============================] - 230s 337ms/step - loss: 0.8551 - val_loss: 17.6022\n",
      "Epoch 25/100\n",
      "681/681 [==============================] - ETA: 0s - loss: 0.7772\n",
      "Epoch 25: loss improved from 0.85509 to 0.77721, saving model to nextword.hdf5\n",
      "681/681 [==============================] - 222s 326ms/step - loss: 0.7772 - val_loss: 17.9451\n",
      "Epoch 26/100\n",
      "681/681 [==============================] - ETA: 0s - loss: 0.7204\n",
      "Epoch 26: loss improved from 0.77721 to 0.72043, saving model to nextword.hdf5\n",
      "681/681 [==============================] - 220s 324ms/step - loss: 0.7204 - val_loss: 17.7777\n",
      "Epoch 27/100\n",
      "681/681 [==============================] - ETA: 0s - loss: 0.6778\n",
      "Epoch 27: loss improved from 0.72043 to 0.67780, saving model to nextword.hdf5\n",
      "681/681 [==============================] - 229s 336ms/step - loss: 0.6778 - val_loss: 18.3039\n",
      "Epoch 28/100\n",
      "681/681 [==============================] - ETA: 0s - loss: 0.6397\n",
      "Epoch 28: loss improved from 0.67780 to 0.63968, saving model to nextword.hdf5\n",
      "681/681 [==============================] - 220s 323ms/step - loss: 0.6397 - val_loss: 17.9457\n",
      "Epoch 29/100\n",
      "681/681 [==============================] - ETA: 0s - loss: 0.6155\n",
      "Epoch 29: loss improved from 0.63968 to 0.61553, saving model to nextword.hdf5\n",
      "681/681 [==============================] - 203s 299ms/step - loss: 0.6155 - val_loss: 18.2849\n",
      "Epoch 30/100\n",
      "681/681 [==============================] - ETA: 0s - loss: 0.5952\n",
      "Epoch 30: loss improved from 0.61553 to 0.59520, saving model to nextword.hdf5\n",
      "681/681 [==============================] - 197s 289ms/step - loss: 0.5952 - val_loss: 17.9872\n",
      "Epoch 31/100\n",
      "681/681 [==============================] - ETA: 0s - loss: 0.5694\n",
      "Epoch 31: loss improved from 0.59520 to 0.56936, saving model to nextword.hdf5\n",
      "681/681 [==============================] - 208s 305ms/step - loss: 0.5694 - val_loss: 18.0707\n",
      "Epoch 32/100\n",
      "681/681 [==============================] - ETA: 0s - loss: 0.5528\n",
      "Epoch 32: loss improved from 0.56936 to 0.55276, saving model to nextword.hdf5\n",
      "681/681 [==============================] - 197s 290ms/step - loss: 0.5528 - val_loss: 17.8115\n",
      "Epoch 33/100\n",
      "681/681 [==============================] - ETA: 0s - loss: 0.5412\n",
      "Epoch 33: loss improved from 0.55276 to 0.54122, saving model to nextword.hdf5\n",
      "681/681 [==============================] - 200s 293ms/step - loss: 0.5412 - val_loss: 18.1918\n"
     ]
    },
    {
     "name": "stdout",
     "output_type": "stream",
     "text": [
      "Epoch 34/100\n",
      "681/681 [==============================] - ETA: 0s - loss: 0.5290\n",
      "Epoch 34: loss improved from 0.54122 to 0.52900, saving model to nextword.hdf5\n",
      "681/681 [==============================] - 197s 290ms/step - loss: 0.5290 - val_loss: 18.2375\n",
      "Epoch 35/100\n",
      "681/681 [==============================] - ETA: 0s - loss: 0.5122\n",
      "Epoch 35: loss improved from 0.52900 to 0.51224, saving model to nextword.hdf5\n",
      "681/681 [==============================] - 199s 292ms/step - loss: 0.5122 - val_loss: 18.2070\n",
      "Epoch 36/100\n",
      "681/681 [==============================] - ETA: 0s - loss: 0.5021\n",
      "Epoch 36: loss improved from 0.51224 to 0.50209, saving model to nextword.hdf5\n",
      "681/681 [==============================] - 197s 289ms/step - loss: 0.5021 - val_loss: 17.8890\n",
      "Epoch 37/100\n",
      "681/681 [==============================] - ETA: 0s - loss: 0.4904\n",
      "Epoch 37: loss improved from 0.50209 to 0.49043, saving model to nextword.hdf5\n",
      "681/681 [==============================] - 198s 290ms/step - loss: 0.4904 - val_loss: 18.1973\n",
      "Epoch 38/100\n",
      "681/681 [==============================] - ETA: 0s - loss: 0.4834\n",
      "Epoch 38: loss improved from 0.49043 to 0.48339, saving model to nextword.hdf5\n",
      "681/681 [==============================] - 197s 289ms/step - loss: 0.4834 - val_loss: 17.7580\n",
      "Epoch 39/100\n",
      "681/681 [==============================] - ETA: 0s - loss: 0.4784\n",
      "Epoch 39: loss improved from 0.48339 to 0.47839, saving model to nextword.hdf5\n",
      "681/681 [==============================] - 202s 297ms/step - loss: 0.4784 - val_loss: 18.0089\n",
      "Epoch 40/100\n",
      "681/681 [==============================] - ETA: 0s - loss: 0.4666\n",
      "Epoch 40: loss improved from 0.47839 to 0.46664, saving model to nextword.hdf5\n",
      "681/681 [==============================] - 194s 285ms/step - loss: 0.4666 - val_loss: 18.1774\n",
      "Epoch 41/100\n",
      "681/681 [==============================] - ETA: 0s - loss: 0.4573\n",
      "Epoch 41: loss improved from 0.46664 to 0.45732, saving model to nextword.hdf5\n",
      "681/681 [==============================] - 200s 293ms/step - loss: 0.4573 - val_loss: 17.9159\n",
      "Epoch 42/100\n",
      "681/681 [==============================] - ETA: 0s - loss: 0.4505\n",
      "Epoch 42: loss improved from 0.45732 to 0.45050, saving model to nextword.hdf5\n",
      "681/681 [==============================] - 196s 287ms/step - loss: 0.4505 - val_loss: 18.5587\n",
      "Epoch 43/100\n",
      "681/681 [==============================] - ETA: 0s - loss: 0.4484\n",
      "Epoch 43: loss improved from 0.45050 to 0.44845, saving model to nextword.hdf5\n",
      "681/681 [==============================] - 197s 290ms/step - loss: 0.4484 - val_loss: 17.7877\n",
      "Epoch 44/100\n",
      "681/681 [==============================] - ETA: 0s - loss: 0.4382\n",
      "Epoch 44: loss improved from 0.44845 to 0.43825, saving model to nextword.hdf5\n",
      "681/681 [==============================] - 196s 288ms/step - loss: 0.4382 - val_loss: 18.3823\n",
      "Epoch 45/100\n",
      "681/681 [==============================] - ETA: 0s - loss: 0.4373\n",
      "Epoch 45: loss improved from 0.43825 to 0.43729, saving model to nextword.hdf5\n",
      "681/681 [==============================] - 193s 284ms/step - loss: 0.4373 - val_loss: 18.2072\n",
      "Epoch 46/100\n",
      "681/681 [==============================] - ETA: 0s - loss: 0.4292\n",
      "Epoch 46: loss improved from 0.43729 to 0.42921, saving model to nextword.hdf5\n",
      "681/681 [==============================] - 205s 300ms/step - loss: 0.4292 - val_loss: 18.2090\n",
      "Epoch 47/100\n",
      "681/681 [==============================] - ETA: 0s - loss: 0.4224\n",
      "Epoch 47: loss improved from 0.42921 to 0.42235, saving model to nextword.hdf5\n",
      "681/681 [==============================] - 197s 289ms/step - loss: 0.4224 - val_loss: 18.2965\n",
      "Epoch 48/100\n",
      "681/681 [==============================] - ETA: 0s - loss: 0.4184\n",
      "Epoch 48: loss improved from 0.42235 to 0.41842, saving model to nextword.hdf5\n",
      "681/681 [==============================] - 192s 281ms/step - loss: 0.4184 - val_loss: 18.1997\n",
      "Epoch 49/100\n",
      "681/681 [==============================] - ETA: 0s - loss: 0.4152\n",
      "Epoch 49: loss improved from 0.41842 to 0.41522, saving model to nextword.hdf5\n",
      "681/681 [==============================] - 190s 279ms/step - loss: 0.4152 - val_loss: 19.0517\n",
      "Epoch 50/100\n",
      "681/681 [==============================] - ETA: 0s - loss: 0.4060\n",
      "Epoch 50: loss improved from 0.41522 to 0.40596, saving model to nextword.hdf5\n",
      "681/681 [==============================] - 205s 302ms/step - loss: 0.4060 - val_loss: 17.9610\n",
      "Epoch 51/100\n",
      "681/681 [==============================] - ETA: 0s - loss: 0.4044\n",
      "Epoch 51: loss improved from 0.40596 to 0.40436, saving model to nextword.hdf5\n",
      "681/681 [==============================] - 201s 296ms/step - loss: 0.4044 - val_loss: 18.6261\n",
      "Epoch 52/100\n",
      "681/681 [==============================] - ETA: 0s - loss: 0.4031\n",
      "Epoch 52: loss improved from 0.40436 to 0.40313, saving model to nextword.hdf5\n",
      "681/681 [==============================] - 200s 294ms/step - loss: 0.4031 - val_loss: 18.9197\n",
      "Epoch 53/100\n",
      "681/681 [==============================] - ETA: 0s - loss: 0.3978\n",
      "Epoch 53: loss improved from 0.40313 to 0.39784, saving model to nextword.hdf5\n",
      "681/681 [==============================] - 201s 295ms/step - loss: 0.3978 - val_loss: 18.6541\n",
      "Epoch 54/100\n",
      "681/681 [==============================] - ETA: 0s - loss: 0.3920\n",
      "Epoch 54: loss improved from 0.39784 to 0.39201, saving model to nextword.hdf5\n",
      "681/681 [==============================] - 194s 285ms/step - loss: 0.3920 - val_loss: 18.6622\n",
      "Epoch 55/100\n",
      "681/681 [==============================] - ETA: 0s - loss: 0.3855\n",
      "Epoch 55: loss improved from 0.39201 to 0.38553, saving model to nextword.hdf5\n",
      "681/681 [==============================] - 212s 311ms/step - loss: 0.3855 - val_loss: 18.6661\n",
      "Epoch 56/100\n",
      "681/681 [==============================] - ETA: 0s - loss: 0.3873\n",
      "Epoch 56: loss did not improve from 0.38553\n",
      "681/681 [==============================] - 196s 288ms/step - loss: 0.3873 - val_loss: 18.8136\n",
      "Epoch 57/100\n",
      "681/681 [==============================] - ETA: 0s - loss: 0.3851\n",
      "Epoch 57: loss improved from 0.38553 to 0.38511, saving model to nextword.hdf5\n",
      "681/681 [==============================] - 193s 284ms/step - loss: 0.3851 - val_loss: 18.8052\n",
      "Epoch 58/100\n",
      "681/681 [==============================] - ETA: 0s - loss: 0.3822\n",
      "Epoch 58: loss improved from 0.38511 to 0.38220, saving model to nextword.hdf5\n",
      "681/681 [==============================] - 195s 287ms/step - loss: 0.3822 - val_loss: 18.9191\n",
      "Epoch 59/100\n",
      "681/681 [==============================] - ETA: 0s - loss: 0.3737\n",
      "Epoch 59: loss improved from 0.38220 to 0.37374, saving model to nextword.hdf5\n",
      "681/681 [==============================] - 201s 295ms/step - loss: 0.3737 - val_loss: 18.5077\n",
      "Epoch 60/100\n",
      "681/681 [==============================] - ETA: 0s - loss: 0.3721\n",
      "Epoch 60: loss improved from 0.37374 to 0.37215, saving model to nextword.hdf5\n",
      "681/681 [==============================] - 191s 281ms/step - loss: 0.3721 - val_loss: 18.7274\n",
      "Epoch 61/100\n",
      "681/681 [==============================] - ETA: 0s - loss: 0.3662\n",
      "Epoch 61: loss improved from 0.37215 to 0.36621, saving model to nextword.hdf5\n",
      "681/681 [==============================] - 197s 289ms/step - loss: 0.3662 - val_loss: 18.8684\n",
      "Epoch 62/100\n",
      "681/681 [==============================] - ETA: 0s - loss: 0.3633\n",
      "Epoch 62: loss improved from 0.36621 to 0.36332, saving model to nextword.hdf5\n",
      "681/681 [==============================] - 203s 299ms/step - loss: 0.3633 - val_loss: 19.1970\n",
      "Epoch 63/100\n",
      "681/681 [==============================] - ETA: 0s - loss: 0.3683\n",
      "Epoch 63: loss did not improve from 0.36332\n",
      "681/681 [==============================] - 205s 300ms/step - loss: 0.3683 - val_loss: 19.3089\n",
      "Epoch 64/100\n",
      "681/681 [==============================] - ETA: 0s - loss: 0.3651\n",
      "Epoch 64: loss did not improve from 0.36332\n",
      "681/681 [==============================] - 200s 293ms/step - loss: 0.3651 - val_loss: 19.1402\n",
      "Epoch 65/100\n",
      "681/681 [==============================] - ETA: 0s - loss: 0.3635\n",
      "Epoch 65: loss did not improve from 0.36332\n",
      "681/681 [==============================] - 431s 634ms/step - loss: 0.3635 - val_loss: 19.2692\n",
      "Epoch 66/100\n",
      "681/681 [==============================] - ETA: 0s - loss: 0.3598\n",
      "Epoch 66: loss improved from 0.36332 to 0.35984, saving model to nextword.hdf5\n",
      "681/681 [==============================] - 434s 638ms/step - loss: 0.3598 - val_loss: 19.1278\n",
      "Epoch 67/100\n"
     ]
    },
    {
     "name": "stdout",
     "output_type": "stream",
     "text": [
      "681/681 [==============================] - ETA: 0s - loss: 0.3524\n",
      "Epoch 67: loss improved from 0.35984 to 0.35240, saving model to nextword.hdf5\n",
      "681/681 [==============================] - 416s 611ms/step - loss: 0.3524 - val_loss: 19.4115\n",
      "Epoch 68/100\n",
      "681/681 [==============================] - ETA: 0s - loss: 0.3518\n",
      "Epoch 68: loss improved from 0.35240 to 0.35181, saving model to nextword.hdf5\n",
      "681/681 [==============================] - 445s 653ms/step - loss: 0.3518 - val_loss: 19.2334\n",
      "Epoch 69/100\n",
      "681/681 [==============================] - ETA: 0s - loss: 0.3505\n",
      "Epoch 69: loss improved from 0.35181 to 0.35049, saving model to nextword.hdf5\n",
      "681/681 [==============================] - 811s 1s/step - loss: 0.3505 - val_loss: 19.0654\n",
      "Epoch 70/100\n",
      "681/681 [==============================] - ETA: 0s - loss: 0.3506\n",
      "Epoch 70: loss did not improve from 0.35049\n",
      "681/681 [==============================] - 199s 293ms/step - loss: 0.3506 - val_loss: 19.6935\n",
      "Epoch 71/100\n",
      "681/681 [==============================] - ETA: 0s - loss: 0.3462\n",
      "Epoch 71: loss improved from 0.35049 to 0.34618, saving model to nextword.hdf5\n",
      "681/681 [==============================] - 212s 311ms/step - loss: 0.3462 - val_loss: 19.7683\n",
      "Epoch 72/100\n",
      "681/681 [==============================] - ETA: 0s - loss: 0.3458\n",
      "Epoch 72: loss improved from 0.34618 to 0.34583, saving model to nextword.hdf5\n",
      "681/681 [==============================] - 223s 328ms/step - loss: 0.3458 - val_loss: 19.6874\n",
      "Epoch 73/100\n",
      "681/681 [==============================] - ETA: 0s - loss: 0.3480\n",
      "Epoch 73: loss did not improve from 0.34583\n",
      "681/681 [==============================] - 221s 325ms/step - loss: 0.3480 - val_loss: 19.8746\n",
      "Epoch 74/100\n",
      "681/681 [==============================] - ETA: 0s - loss: 0.3414\n",
      "Epoch 74: loss improved from 0.34583 to 0.34137, saving model to nextword.hdf5\n",
      "681/681 [==============================] - 219s 322ms/step - loss: 0.3414 - val_loss: 19.8540\n",
      "Epoch 75/100\n",
      "681/681 [==============================] - ETA: 0s - loss: 0.3360\n",
      "Epoch 75: loss improved from 0.34137 to 0.33602, saving model to nextword.hdf5\n",
      "681/681 [==============================] - 209s 307ms/step - loss: 0.3360 - val_loss: 19.7581\n",
      "Epoch 76/100\n",
      "681/681 [==============================] - ETA: 0s - loss: 0.3361\n",
      "Epoch 76: loss did not improve from 0.33602\n",
      "681/681 [==============================] - 212s 312ms/step - loss: 0.3361 - val_loss: 19.8693\n",
      "Epoch 77/100\n",
      "681/681 [==============================] - ETA: 0s - loss: 0.3341\n",
      "Epoch 77: loss improved from 0.33602 to 0.33413, saving model to nextword.hdf5\n",
      "681/681 [==============================] - 274s 403ms/step - loss: 0.3341 - val_loss: 19.9182\n",
      "Epoch 78/100\n",
      "681/681 [==============================] - ETA: 0s - loss: 0.3342\n",
      "Epoch 78: loss did not improve from 0.33413\n",
      "681/681 [==============================] - 439s 645ms/step - loss: 0.3342 - val_loss: 20.4313\n",
      "Epoch 79/100\n",
      "681/681 [==============================] - ETA: 0s - loss: 0.3340\n",
      "Epoch 79: loss improved from 0.33413 to 0.33395, saving model to nextword.hdf5\n",
      "681/681 [==============================] - 445s 654ms/step - loss: 0.3340 - val_loss: 20.1235\n",
      "Epoch 80/100\n",
      "681/681 [==============================] - ETA: 0s - loss: 0.3333\n",
      "Epoch 80: loss improved from 0.33395 to 0.33327, saving model to nextword.hdf5\n",
      "681/681 [==============================] - 439s 645ms/step - loss: 0.3333 - val_loss: 20.1807\n",
      "Epoch 81/100\n",
      "681/681 [==============================] - ETA: 0s - loss: 0.3340\n",
      "Epoch 81: loss did not improve from 0.33327\n",
      "681/681 [==============================] - 440s 646ms/step - loss: 0.3340 - val_loss: 20.8143\n",
      "Epoch 82/100\n",
      "681/681 [==============================] - ETA: 0s - loss: 0.3303\n",
      "Epoch 82: loss improved from 0.33327 to 0.33034, saving model to nextword.hdf5\n",
      "681/681 [==============================] - 450s 661ms/step - loss: 0.3303 - val_loss: 19.9532\n",
      "Epoch 83/100\n",
      "681/681 [==============================] - ETA: 0s - loss: 0.3255\n",
      "Epoch 83: loss improved from 0.33034 to 0.32545, saving model to nextword.hdf5\n",
      "681/681 [==============================] - 230s 338ms/step - loss: 0.3255 - val_loss: 19.9069\n",
      "Epoch 84/100\n",
      "681/681 [==============================] - ETA: 0s - loss: 0.3237\n",
      "Epoch 84: loss improved from 0.32545 to 0.32368, saving model to nextword.hdf5\n",
      "681/681 [==============================] - 196s 288ms/step - loss: 0.3237 - val_loss: 20.7460\n",
      "Epoch 85/100\n",
      "681/681 [==============================] - ETA: 0s - loss: 0.3254\n",
      "Epoch 85: loss did not improve from 0.32368\n",
      "681/681 [==============================] - 208s 306ms/step - loss: 0.3254 - val_loss: 20.5879\n",
      "Epoch 86/100\n",
      "681/681 [==============================] - ETA: 0s - loss: 0.3266\n",
      "Epoch 86: loss did not improve from 0.32368\n",
      "681/681 [==============================] - 222s 326ms/step - loss: 0.3266 - val_loss: 20.2663\n",
      "Epoch 87/100\n",
      "681/681 [==============================] - ETA: 0s - loss: 0.3202\n",
      "Epoch 87: loss improved from 0.32368 to 0.32023, saving model to nextword.hdf5\n",
      "681/681 [==============================] - 230s 338ms/step - loss: 0.3202 - val_loss: 20.4083\n",
      "Epoch 88/100\n",
      "681/681 [==============================] - ETA: 0s - loss: 0.3226\n",
      "Epoch 88: loss did not improve from 0.32023\n",
      "681/681 [==============================] - 216s 317ms/step - loss: 0.3226 - val_loss: 20.5518\n",
      "Epoch 89/100\n",
      "681/681 [==============================] - ETA: 0s - loss: 0.3262\n",
      "Epoch 89: loss did not improve from 0.32023\n",
      "681/681 [==============================] - 225s 331ms/step - loss: 0.3262 - val_loss: 21.0719\n",
      "Epoch 90/100\n",
      "681/681 [==============================] - ETA: 0s - loss: 0.3190\n",
      "Epoch 90: loss improved from 0.32023 to 0.31897, saving model to nextword.hdf5\n",
      "681/681 [==============================] - 228s 335ms/step - loss: 0.3190 - val_loss: 20.6669\n",
      "Epoch 91/100\n",
      "681/681 [==============================] - ETA: 0s - loss: 0.3155\n",
      "Epoch 91: loss improved from 0.31897 to 0.31547, saving model to nextword.hdf5\n",
      "681/681 [==============================] - 227s 334ms/step - loss: 0.3155 - val_loss: 21.1928\n",
      "Epoch 92/100\n",
      "681/681 [==============================] - ETA: 0s - loss: 0.3129\n",
      "Epoch 92: loss improved from 0.31547 to 0.31286, saving model to nextword.hdf5\n",
      "681/681 [==============================] - 226s 332ms/step - loss: 0.3129 - val_loss: 21.3225\n",
      "Epoch 93/100\n",
      "681/681 [==============================] - ETA: 0s - loss: 0.3124\n",
      "Epoch 93: loss improved from 0.31286 to 0.31238, saving model to nextword.hdf5\n",
      "681/681 [==============================] - 223s 328ms/step - loss: 0.3124 - val_loss: 21.6062\n",
      "Epoch 94/100\n",
      "681/681 [==============================] - ETA: 0s - loss: 0.3231\n",
      "Epoch 94: loss did not improve from 0.31238\n",
      "681/681 [==============================] - 226s 332ms/step - loss: 0.3231 - val_loss: 20.4285\n",
      "Epoch 95/100\n",
      "681/681 [==============================] - ETA: 0s - loss: 0.3279\n",
      "Epoch 95: loss did not improve from 0.31238\n",
      "681/681 [==============================] - 231s 340ms/step - loss: 0.3279 - val_loss: 21.5383\n",
      "Epoch 96/100\n",
      "681/681 [==============================] - ETA: 0s - loss: 0.3157\n",
      "Epoch 96: loss did not improve from 0.31238\n",
      "681/681 [==============================] - 231s 340ms/step - loss: 0.3157 - val_loss: 20.7691\n",
      "Epoch 97/100\n",
      "681/681 [==============================] - ETA: 0s - loss: 0.3079\n",
      "Epoch 97: loss improved from 0.31238 to 0.30789, saving model to nextword.hdf5\n",
      "681/681 [==============================] - 219s 322ms/step - loss: 0.3079 - val_loss: 21.2358\n",
      "Epoch 98/100\n",
      "681/681 [==============================] - ETA: 0s - loss: 0.3046\n",
      "Epoch 98: loss improved from 0.30789 to 0.30457, saving model to nextword.hdf5\n",
      "681/681 [==============================] - 225s 331ms/step - loss: 0.3046 - val_loss: 21.1573\n",
      "Epoch 99/100\n",
      "681/681 [==============================] - ETA: 0s - loss: 0.3018\n",
      "Epoch 99: loss improved from 0.30457 to 0.30175, saving model to nextword.hdf5\n",
      "681/681 [==============================] - 228s 335ms/step - loss: 0.3018 - val_loss: 20.7623\n",
      "Epoch 100/100\n",
      "681/681 [==============================] - ETA: 0s - loss: 0.3036\n",
      "Epoch 100: loss did not improve from 0.30175\n",
      "681/681 [==============================] - 221s 324ms/step - loss: 0.3036 - val_loss: 21.3567\n"
     ]
    },
    {
     "data": {
      "text/plain": [
       "<matplotlib.legend.Legend at 0x1ecb0f43460>"
      ]
     },
     "execution_count": 13,
     "metadata": {},
     "output_type": "execute_result"
    },
    {
     "data": {
      "image/png": "[encoded data removed]",
      "text/plain": [
       "<Figure size 432x288 with 1 Axes>"
      ]
     },
     "metadata": {
      "needs_background": "light"
     },
     "output_type": "display_data"
    }
   ],
   "source": [
    "checkpoint = ModelCheckpoint(\"nextword.hdf5\", monitor='loss', verbose=1, save_best_only=True)\n",
    "model.compile(loss=\"categorical_crossentropy\", optimizer=Adam(learning_rate=0.001))\n",
    "lstm = model.fit(X, y, validation_split=0.2, epochs=100, batch_size=128, shuffle=True, callbacks=[checkpoint]).history\n",
    "plt.plot(lstm['loss'])\n",
    "plt.plot(lstm['val_loss'])\n",
    "plt.title('model loss')\n",
    "plt.ylabel('loss')\n",
    "plt.xlabel('epoch')\n",
    "plt.legend(['train', 'test'], loc='upper right')"
   ]
  },
  {
   "cell_type": "markdown",
   "id": "22021f65",
   "metadata": {},
   "source": [
    "### Results"
   ]
  },
  {
   "cell_type": "code",
   "execution_count": 14,
   "id": "0232169b",
   "metadata": {},
   "outputs": [
    {
     "name": "stdout",
     "output_type": "stream",
     "text": [
      "Input : I am about\n",
      "Output :  I am about to\n",
      "\n",
      "Input : So I have\n",
      "Output :  So I have heard\n",
      "\n",
      "Input : To Clotilde Lothman\n",
      "Output :  To Clotilde Lothman von\n",
      "\n"
     ]
    }
   ],
   "source": [
    "model = load_model(\"nextword.hdf5\")\n",
    "tokenizer = pickle.load(open(\"tokenizer1.pkl\", 'rb'))\n",
    "\n",
    "def predict_next_words(model, tokenizer, text) :\n",
    "    \n",
    "    sequence = tokenizer.texts_to_sequences([text])\n",
    "    sequence = np.array(sequence)\n",
    "    \n",
    "    preds = np.argmax(model.predict(sequence))\n",
    "    predicted_word = \"\"\n",
    "    \n",
    "    for key, value in tokenizer.word_index.items() :\n",
    "        if value == preds :\n",
    "            predicted_word = key\n",
    "            break\n",
    "    \n",
    "    return predicted_word\n",
    "\n",
    "l = [\"I am about\", \"So I have\", \"To Clotilde Lothman\"]\n",
    "for i in l :\n",
    "    text = i\n",
    "    if text == \"0\" :\n",
    "        print()\n",
    "        print(\"Execution completed...\")\n",
    "        break\n",
    "    else :\n",
    "        try :\n",
    "            text = text.split(\" \")\n",
    "            text = text[-3:]\n",
    "            print(\"Input :\", i)\n",
    "            print(\"Output : \", i, predict_next_words(model, tokenizer, text))\n",
    "            print()\n",
    "            \n",
    "        except Exception as e :\n",
    "            print(\"Error occured : \", e)\n",
    "            continue"
   ]
  },
  {
   "cell_type": "markdown",
   "id": "e588f681",
   "metadata": {},
   "source": [
    "### Now using BI-LSTM which means not only forward pred, but backward too"
   ]
  },
  {
   "cell_type": "code",
   "execution_count": 15,
   "id": "5513cd22",
   "metadata": {},
   "outputs": [
    {
     "data": {
      "text/html": [
       "<div>\n",
       "<style scoped>\n",
       "    .dataframe tbody tr th:only-of-type {\n",
       "        vertical-align: middle;\n",
       "    }\n",
       "\n",
       "    .dataframe tbody tr th {\n",
       "        vertical-align: top;\n",
       "    }\n",
       "\n",
       "    .dataframe thead th {\n",
       "        text-align: right;\n",
       "    }\n",
       "</style>\n",
       "<table border=\"1\" class=\"dataframe\">\n",
       "  <thead>\n",
       "    <tr style=\"text-align: right;\">\n",
       "      <th></th>\n",
       "      <th>id</th>\n",
       "      <th>url</th>\n",
       "      <th>title</th>\n",
       "      <th>subtitle</th>\n",
       "      <th>image</th>\n",
       "      <th>claps</th>\n",
       "      <th>responses</th>\n",
       "      <th>reading_time</th>\n",
       "      <th>publication</th>\n",
       "      <th>date</th>\n",
       "    </tr>\n",
       "  </thead>\n",
       "  <tbody>\n",
       "    <tr>\n",
       "      <th>0</th>\n",
       "      <td>1</td>\n",
       "      <td>https://towardsdatascience.com/a-beginners-gui...</td>\n",
       "      <td>A Beginner’s Guide to Word Embedding with Gens...</td>\n",
       "      <td>NaN</td>\n",
       "      <td>1.png</td>\n",
       "      <td>850</td>\n",
       "      <td>8</td>\n",
       "      <td>8</td>\n",
       "      <td>Towards Data Science</td>\n",
       "      <td>2019-05-30</td>\n",
       "    </tr>\n",
       "    <tr>\n",
       "      <th>1</th>\n",
       "      <td>2</td>\n",
       "      <td>https://towardsdatascience.com/hands-on-graph-...</td>\n",
       "      <td>Hands-on Graph Neural Networks with PyTorch &amp; ...</td>\n",
       "      <td>NaN</td>\n",
       "      <td>2.png</td>\n",
       "      <td>1100</td>\n",
       "      <td>11</td>\n",
       "      <td>9</td>\n",
       "      <td>Towards Data Science</td>\n",
       "      <td>2019-05-30</td>\n",
       "    </tr>\n",
       "    <tr>\n",
       "      <th>2</th>\n",
       "      <td>3</td>\n",
       "      <td>https://towardsdatascience.com/how-to-use-ggpl...</td>\n",
       "      <td>How to Use ggplot2 in Python</td>\n",
       "      <td>A Grammar of Graphics for Python</td>\n",
       "      <td>3.png</td>\n",
       "      <td>767</td>\n",
       "      <td>1</td>\n",
       "      <td>5</td>\n",
       "      <td>Towards Data Science</td>\n",
       "      <td>2019-05-30</td>\n",
       "    </tr>\n",
       "    <tr>\n",
       "      <th>3</th>\n",
       "      <td>4</td>\n",
       "      <td>https://towardsdatascience.com/databricks-how-...</td>\n",
       "      <td>Databricks: How to Save Files in CSV on Your L...</td>\n",
       "      <td>When I work on Python projects dealing…</td>\n",
       "      <td>4.jpeg</td>\n",
       "      <td>354</td>\n",
       "      <td>0</td>\n",
       "      <td>4</td>\n",
       "      <td>Towards Data Science</td>\n",
       "      <td>2019-05-30</td>\n",
       "    </tr>\n",
       "    <tr>\n",
       "      <th>4</th>\n",
       "      <td>5</td>\n",
       "      <td>https://towardsdatascience.com/a-step-by-step-...</td>\n",
       "      <td>A Step-by-Step Implementation of Gradient Desc...</td>\n",
       "      <td>One example of building neural…</td>\n",
       "      <td>5.jpeg</td>\n",
       "      <td>211</td>\n",
       "      <td>3</td>\n",
       "      <td>4</td>\n",
       "      <td>Towards Data Science</td>\n",
       "      <td>2019-05-30</td>\n",
       "    </tr>\n",
       "  </tbody>\n",
       "</table>\n",
       "</div>"
      ],
      "text/plain": [
       "   id                                                url  \\\n",
       "0   1  https://towardsdatascience.com/a-beginners-gui...   \n",
       "1   2  https://towardsdatascience.com/hands-on-graph-...   \n",
       "2   3  https://towardsdatascience.com/how-to-use-ggpl...   \n",
       "3   4  https://towardsdatascience.com/databricks-how-...   \n",
       "4   5  https://towardsdatascience.com/a-step-by-step-...   \n",
       "\n",
       "                                               title  \\\n",
       "0  A Beginner’s Guide to Word Embedding with Gens...   \n",
       "1  Hands-on Graph Neural Networks with PyTorch & ...   \n",
       "2                       How to Use ggplot2 in Python   \n",
       "3  Databricks: How to Save Files in CSV on Your L...   \n",
       "4  A Step-by-Step Implementation of Gradient Desc...   \n",
       "\n",
       "                                  subtitle   image  claps responses  \\\n",
       "0                                      NaN   1.png    850         8   \n",
       "1                                      NaN   2.png   1100        11   \n",
       "2         A Grammar of Graphics for Python   3.png    767         1   \n",
       "3  When I work on Python projects dealing…  4.jpeg    354         0   \n",
       "4          One example of building neural…  5.jpeg    211         3   \n",
       "\n",
       "   reading_time           publication        date  \n",
       "0             8  Towards Data Science  2019-05-30  \n",
       "1             9  Towards Data Science  2019-05-30  \n",
       "2             5  Towards Data Science  2019-05-30  \n",
       "3             4  Towards Data Science  2019-05-30  \n",
       "4             4  Towards Data Science  2019-05-30  "
      ]
     },
     "execution_count": 15,
     "metadata": {},
     "output_type": "execute_result"
    }
   ],
   "source": [
    "medium_data = pd.read_csv('medium_data.csv')\n",
    "medium_data.head()"
   ]
  },
  {
   "cell_type": "code",
   "execution_count": 16,
   "id": "9929dfcc",
   "metadata": {},
   "outputs": [
    {
     "name": "stdout",
     "output_type": "stream",
     "text": [
      "Number of records:  6508\n",
      "Number of fields:  10\n"
     ]
    }
   ],
   "source": [
    "print(\"Number of records: \", medium_data.shape[0])\n",
    "print(\"Number of fields: \", medium_data.shape[1])"
   ]
  },
  {
   "cell_type": "code",
   "execution_count": 17,
   "id": "c5d3ef92",
   "metadata": {},
   "outputs": [
    {
     "data": {
      "text/plain": [
       "8238"
      ]
     },
     "execution_count": 17,
     "metadata": {},
     "output_type": "execute_result"
    }
   ],
   "source": [
    "#Remove unwanted symbols\n",
    "medium_data['title'] = medium_data['title'].apply(lambda x: x.replace(u'\\xa0',u' '))\n",
    "medium_data['title'] = medium_data['title'].apply(lambda x: x.replace('\\u200a',' '))\n",
    "\n",
    "#Tokenize\n",
    "tokenizer = Tokenizer(oov_token='<oov>') # For those words which are not found in word_index\n",
    "tokenizer.fit_on_texts(medium_data['title'])\n",
    "vocab_size = len(tokenizer.word_index) + 1\n",
    "vocab_size"
   ]
  },
  {
   "cell_type": "code",
   "execution_count": 18,
   "id": "d9d47ef5",
   "metadata": {},
   "outputs": [
    {
     "name": "stdout",
     "output_type": "stream",
     "text": [
      "<oov>:  1\n",
      "Strong:  4\n",
      "And:  8\n",
      "Consumption:  8237\n"
     ]
    }
   ],
   "source": [
    "print(\"<oov>: \", tokenizer.word_index['<oov>'])\n",
    "print(\"Strong: \", tokenizer.word_index['strong'])\n",
    "print(\"And: \", tokenizer.word_index['and'])\n",
    "print(\"Consumption: \", tokenizer.word_index['consumption'])"
   ]
  },
  {
   "cell_type": "code",
   "execution_count": 19,
   "id": "3731c70c",
   "metadata": {},
   "outputs": [
    {
     "name": "stdout",
     "output_type": "stream",
     "text": [
      "Total input sequences:  48461\n"
     ]
    }
   ],
   "source": [
    "#Titles text into sequences and make n_gram model\n",
    "input_sequences = []\n",
    "for line in medium_data['title']:\n",
    "    token_list = tokenizer.texts_to_sequences([line])[0]\n",
    "    #print(token_list)\n",
    "    \n",
    "    for i in range(1, len(token_list)):\n",
    "        n_gram_sequence = token_list[:i+1]\n",
    "        input_sequences.append(n_gram_sequence)\n",
    "\n",
    "# print(input_sequences)\n",
    "print(\"Total input sequences: \", len(input_sequences))"
   ]
  },
  {
   "cell_type": "code",
   "execution_count": 20,
   "id": "9e480cb5",
   "metadata": {},
   "outputs": [
    {
     "data": {
      "text/plain": [
       "array([  0,   0,   0,   0,   0,   0,   0,   0,   0,   0,   0,   0,   0,\n",
       "         0,   0,   0,   0,   0,   0,   0,   0,   0,   0,   0,   0,   0,\n",
       "         0,   0,   0,   0,   0,   0,   0,   0,   0,   0,   0,   5, 676,\n",
       "        68])"
      ]
     },
     "execution_count": 20,
     "metadata": {},
     "output_type": "execute_result"
    }
   ],
   "source": [
    "# pad sequences: making all same length \n",
    "max_sequence_len = max([len(x) for x in input_sequences])\n",
    "input_sequences = np.array(pad_sequences(input_sequences, maxlen=max_sequence_len, padding='pre'))\n",
    "input_sequences[1]"
   ]
  },
  {
   "cell_type": "code",
   "execution_count": 21,
   "id": "b255c1f0",
   "metadata": {},
   "outputs": [],
   "source": [
    "# create features and label\n",
    "xs, labels = input_sequences[:,:-1],input_sequences[:,-1]\n",
    "ys = tf.keras.utils.to_categorical(labels, num_classes=vocab_size)"
   ]
  },
  {
   "cell_type": "code",
   "execution_count": 22,
   "id": "e0f6aac8",
   "metadata": {},
   "outputs": [
    {
     "name": "stdout",
     "output_type": "stream",
     "text": [
      "[   0    0    0    0    0    0    0    0    0    0    0    0    0    0\n",
      "    0    0    0    0    0    0    0    0    0    0    0    0    0    0\n",
      "    0    0    0    0    0    5  676   68    2  452 1518]\n",
      "14\n",
      "1.0\n"
     ]
    }
   ],
   "source": [
    "print(xs[5])\n",
    "print(labels[5])\n",
    "print(ys[5][14])"
   ]
  },
  {
   "cell_type": "code",
   "execution_count": 24,
   "id": "8c8acd61",
   "metadata": {},
   "outputs": [
    {
     "name": "stdout",
     "output_type": "stream",
     "text": [
      "Epoch 1/50\n"
     ]
    },
    {
     "name": "stderr",
     "output_type": "stream",
     "text": [
      "C:\\Users\\ramsu\\anaconda3\\lib\\site-packages\\keras\\optimizer_v2\\adam.py:105: UserWarning: The `lr` argument is deprecated, use `learning_rate` instead.\n",
      "  super(Adam, self).__init__(name, **kwargs)\n"
     ]
    },
    {
     "name": "stdout",
     "output_type": "stream",
     "text": [
      "1515/1515 [==============================] - 80s 50ms/step - loss: 6.7697 - accuracy: 0.1260\n",
      "Epoch 2/50\n",
      "1515/1515 [==============================] - 80s 53ms/step - loss: 5.7313 - accuracy: 0.1804\n",
      "Epoch 3/50\n",
      "1515/1515 [==============================] - 84s 56ms/step - loss: 4.8797 - accuracy: 0.2110\n",
      "Epoch 4/50\n",
      "1515/1515 [==============================] - 214s 141ms/step - loss: 4.1398 - accuracy: 0.2517\n",
      "Epoch 5/50\n",
      "1515/1515 [==============================] - 229s 151ms/step - loss: 3.5902 - accuracy: 0.3057\n",
      "Epoch 6/50\n",
      "1515/1515 [==============================] - 210s 139ms/step - loss: 3.2185 - accuracy: 0.3474\n",
      "Epoch 7/50\n",
      "1515/1515 [==============================] - 228s 150ms/step - loss: 2.9747 - accuracy: 0.3813\n",
      "Epoch 8/50\n",
      "1515/1515 [==============================] - 223s 147ms/step - loss: 2.8107 - accuracy: 0.4035\n",
      "Epoch 9/50\n",
      "1515/1515 [==============================] - 221s 146ms/step - loss: 2.6800 - accuracy: 0.4226\n",
      "Epoch 10/50\n",
      "1515/1515 [==============================] - 223s 147ms/step - loss: 2.6017 - accuracy: 0.4346\n",
      "Epoch 11/50\n",
      "1515/1515 [==============================] - 223s 147ms/step - loss: 2.5029 - accuracy: 0.4484\n",
      "Epoch 12/50\n",
      "1515/1515 [==============================] - 218s 144ms/step - loss: 2.4467 - accuracy: 0.4598\n",
      "Epoch 13/50\n",
      "1515/1515 [==============================] - 219s 145ms/step - loss: 2.4083 - accuracy: 0.4638\n",
      "Epoch 14/50\n",
      "1515/1515 [==============================] - 223s 147ms/step - loss: 2.3775 - accuracy: 0.4695\n",
      "Epoch 15/50\n",
      "1515/1515 [==============================] - 227s 150ms/step - loss: 2.3477 - accuracy: 0.4739\n",
      "Epoch 16/50\n",
      "1515/1515 [==============================] - 227s 150ms/step - loss: 2.2939 - accuracy: 0.4829\n",
      "Epoch 17/50\n",
      "1515/1515 [==============================] - 232s 153ms/step - loss: 2.2918 - accuracy: 0.4842\n",
      "Epoch 18/50\n",
      "1515/1515 [==============================] - 228s 151ms/step - loss: 2.2964 - accuracy: 0.4872\n",
      "Epoch 19/50\n",
      "1515/1515 [==============================] - 242s 159ms/step - loss: 2.2573 - accuracy: 0.4934\n",
      "Epoch 20/50\n",
      "1515/1515 [==============================] - 244s 161ms/step - loss: 2.2166 - accuracy: 0.5003\n",
      "Epoch 21/50\n",
      "1515/1515 [==============================] - 244s 161ms/step - loss: 2.1988 - accuracy: 0.5008\n",
      "Epoch 22/50\n",
      "1515/1515 [==============================] - 245s 162ms/step - loss: 2.2030 - accuracy: 0.4995\n",
      "Epoch 23/50\n",
      "1515/1515 [==============================] - 245s 162ms/step - loss: 2.1944 - accuracy: 0.5028\n",
      "Epoch 24/50\n",
      "1515/1515 [==============================] - 243s 160ms/step - loss: 2.1487 - accuracy: 0.5117\n",
      "Epoch 25/50\n",
      "1515/1515 [==============================] - 246s 162ms/step - loss: 2.1330 - accuracy: 0.5144\n",
      "Epoch 26/50\n",
      "1515/1515 [==============================] - 236s 156ms/step - loss: 2.1567 - accuracy: 0.5095\n",
      "Epoch 27/50\n",
      "1515/1515 [==============================] - 246s 162ms/step - loss: 2.1720 - accuracy: 0.5078\n",
      "Epoch 28/50\n",
      "1515/1515 [==============================] - 247s 163ms/step - loss: 2.1549 - accuracy: 0.5136\n",
      "Epoch 29/50\n",
      "1515/1515 [==============================] - 237s 156ms/step - loss: 2.1318 - accuracy: 0.5168\n",
      "Epoch 30/50\n",
      "1515/1515 [==============================] - 141s 93ms/step - loss: 2.1732 - accuracy: 0.5086\n",
      "Epoch 31/50\n",
      "1515/1515 [==============================] - 89s 58ms/step - loss: 2.0891 - accuracy: 0.5235\n",
      "Epoch 32/50\n",
      "1515/1515 [==============================] - 95s 63ms/step - loss: 2.1137 - accuracy: 0.5232\n",
      "Epoch 33/50\n",
      "1515/1515 [==============================] - 100s 66ms/step - loss: 2.1056 - accuracy: 0.5217\n",
      "Epoch 34/50\n",
      "1515/1515 [==============================] - 106s 70ms/step - loss: 2.1021 - accuracy: 0.5233\n",
      "Epoch 35/50\n",
      "1515/1515 [==============================] - 106s 70ms/step - loss: 2.0677 - accuracy: 0.5307\n",
      "Epoch 36/50\n",
      "1515/1515 [==============================] - 109s 72ms/step - loss: 2.0633 - accuracy: 0.5293\n",
      "Epoch 37/50\n",
      "1515/1515 [==============================] - 112s 74ms/step - loss: 2.0663 - accuracy: 0.5315\n",
      "Epoch 38/50\n",
      "1515/1515 [==============================] - 109s 72ms/step - loss: 2.0260 - accuracy: 0.5370\n",
      "Epoch 39/50\n",
      "1515/1515 [==============================] - 109s 72ms/step - loss: 2.0006 - accuracy: 0.5404\n",
      "Epoch 40/50\n",
      "1515/1515 [==============================] - 111s 73ms/step - loss: 2.0123 - accuracy: 0.5393\n",
      "Epoch 41/50\n",
      "1515/1515 [==============================] - 112s 74ms/step - loss: 2.0636 - accuracy: 0.5315\n",
      "Epoch 42/50\n",
      "1515/1515 [==============================] - 132s 87ms/step - loss: 2.0074 - accuracy: 0.5442\n",
      "Epoch 43/50\n",
      "1515/1515 [==============================] - 100s 66ms/step - loss: 2.0186 - accuracy: 0.5413\n",
      "Epoch 44/50\n",
      "1515/1515 [==============================] - 107s 70ms/step - loss: 1.9985 - accuracy: 0.5448\n",
      "Epoch 45/50\n",
      "1515/1515 [==============================] - 115s 76ms/step - loss: 2.0076 - accuracy: 0.5415\n",
      "Epoch 46/50\n",
      "1515/1515 [==============================] - 203s 134ms/step - loss: 1.9795 - accuracy: 0.5473\n",
      "Epoch 47/50\n",
      "1515/1515 [==============================] - 283s 187ms/step - loss: 1.9609 - accuracy: 0.5509\n",
      "Epoch 48/50\n",
      "1515/1515 [==============================] - 283s 187ms/step - loss: 1.9672 - accuracy: 0.5516\n",
      "Epoch 49/50\n",
      "1515/1515 [==============================] - 283s 187ms/step - loss: 2.0009 - accuracy: 0.5471\n",
      "Epoch 50/50\n",
      "1515/1515 [==============================] - 274s 181ms/step - loss: 1.9957 - accuracy: 0.5459\n",
      "<keras.engine.sequential.Sequential object at 0x000001ECB0EF4CA0>\n"
     ]
    },
    {
     "data": {
      "text/plain": [
       "<matplotlib.legend.Legend at 0x1ecbe7d6460>"
      ]
     },
     "execution_count": 24,
     "metadata": {},
     "output_type": "execute_result"
    },
    {
     "data": {
      "image/png": "[encoded data removed]",
      "text/plain": [
       "<Figure size 432x288 with 1 Axes>"
      ]
     },
     "metadata": {
      "needs_background": "light"
     },
     "output_type": "display_data"
    }
   ],
   "source": [
    "model = Sequential()\n",
    "model.add(Embedding(vocab_size, 100, input_length=max_sequence_len-1))\n",
    "model.add(Bidirectional(LSTM(150)))\n",
    "model.add(Dense(vocab_size, activation='softmax'))\n",
    "adam = Adam(lr=0.01)\n",
    "model.compile(loss='categorical_crossentropy', optimizer=adam, metrics=['accuracy'])\n",
    "history = model.fit(xs, ys, epochs=50, verbose=1)\n",
    "#print model.summary()\n",
    "print(model)\n",
    "\n",
    "plt.plot(history.history['accuracy'])\n",
    "plt.plot(history.history['loss'])\n",
    "plt.title('model accuracy vs loss')\n",
    "plt.ylabel('loss')\n",
    "plt.xlabel('epoch')\n",
    "plt.legend(['train', 'test'], loc='upper right')\n",
    "\n",
    "# import matplotlib.pyplot as plt\n",
    "# def plot_graphs(history, string):\n",
    "#     plt.plot(history.history[string])\n",
    "#     plt.xlabel(\"Epochs\")\n",
    "#     plt.ylabel(string)\n",
    "#     plt.show()\n",
    "# plot_graphs(history, 'accuracy')"
   ]
  },
  {
   "cell_type": "markdown",
   "id": "26daab87",
   "metadata": {},
   "source": [
    "#### Results"
   ]
  },
  {
   "cell_type": "code",
   "execution_count": 43,
   "id": "39d99274",
   "metadata": {},
   "outputs": [
    {
     "name": "stdout",
     "output_type": "stream",
     "text": [
      "When i work in python make it is unhealthy\n"
     ]
    }
   ],
   "source": [
    "seed_text = \"When i work in python\"\n",
    "next_words = 4\n",
    "  \n",
    "for _ in range(next_words):\n",
    "    token_list = tokenizer.texts_to_sequences([seed_text])[0]\n",
    "    token_list = pad_sequences([token_list], maxlen=max_sequence_len-1, padding='pre')\n",
    "    predicted = model.predict(token_list, verbose=0)\n",
    "    predicted=np.argmax(predicted,axis=1)\n",
    "    output_word = \"\"\n",
    "    for word, index in tokenizer.word_index.items():\n",
    "        if index == predicted:\n",
    "            output_word = word\n",
    "            break\n",
    "    seed_text += \" \" + output_word\n",
    "print(seed_text)"
   ]
  },
  {
   "cell_type": "code",
   "execution_count": null,
   "id": "ff021855",
   "metadata": {},
   "outputs": [],
   "source": []
  }
 ],
 "metadata": {
  "kernelspec": {
   "display_name": "Python 3 (ipykernel)",
   "language": "python",
   "name": "python3"
  },
  "language_info": {
   "codemirror_mode": {
    "name": "ipython",
    "version": 3
   },
   "file_extension": ".py",
   "mimetype": "text/x-python",
   "name": "python",
   "nbconvert_exporter": "python",
   "pygments_lexer": "ipython3",
   "version": "3.8.8"
  }
 },
 "nbformat": 4,
 "nbformat_minor": 5
}
